{
 "cells": [
  {
   "cell_type": "markdown",
   "metadata": {},
   "source": [
    "<img src='./images/Rectangle.svg' width=400 height=400/>\n",
    "\n",
    "\n",
    "**<u>Mo</u>**lecular **<u>S</u>**imulation **<u>De</u>**sign **<u>F</u>**ramework, or MoSDeF, is a robust Python-based, open-source software framework designed to faciliate the initialization, atom-typing, and screening of soft matter systems using molecular simulation. The project was initially developed at Vanderbilt University, in collaboration with software engineers from the Institute for Software Integrated Systems (ISIS). The project has now expanded into a multi-university collaboration with Vanderbilt University as the lead institution. \n",
    "\n",
    "\n",
    "The MoSDeF software suite comprises three main libraries: `mBuild`, `Foyer`, and `GMSO`.  Each library targets a different step of system initialization. Specifically, the `mBuild` library can be used to systematically construct any molecular system, including atomistic and coarse-grained, while `Foyer` can be used to assign interaction parameters to all particles, bonds, angles, and dihedrals in the created system. The `GMSO` library, currently under development, will serve as the main data structure that can be used to store all the information of the system, including the details of the system (particles and their positions) along with types and parameters of that system. \n",
    "\n",
    "\n",
    "The MoSDeF suite of tools allows users to build complicated systems in a manner that is scriptable and automated.   This enables molecular simulation studies to be more transparent and reproducible, as these scripts can be easily shared on software hosting services, such as GitHub.  Automation also allows for rapid system initialization for large-scale screening studies."
   ]
  },
  {
   "cell_type": "markdown",
   "metadata": {},
   "source": [
    "## Notebook Overview\n",
    "\n",
    "In this notebook, we will demonstrate how MoSDeF can be used in a molecular simulation workflow. Along the way we will highlight important features of each package. In context of a short demonstration, we will run a simple simulation (equilibrium simulation of a box of small molecules). At the end of the notebook, examples of more complicated example/tutorials are included, which were inspried by previously published work.\n",
    "\n",
    "For demonstration purposes, we will be using iPy Widgets to show off the different functionalities of MoSDeF.  Note that typical system initialization workflows using MoSDeF are entirely written in Python and do not involve the use of Widgets. Once any of the widgets is activated, it will also print the script of what is happening under the hood."
   ]
  },
  {
   "cell_type": "markdown",
   "metadata": {},
   "source": [
    "### mBuild - https://github.com/mosdef-hub/mbuild  \n",
    "\n",
    "`mBuild` is the molecule building library within MoSDeF. This library includes features that allow users to create complex molecular systems starting from the particle level. The core data structure in `mBuild` is the `Compound` class, which can be used to represent anything from a single particle to a complete system with ten of thoudsands of particles.  \n",
    "<img src='images/pmpc.png' width=800 height=800/>\n",
    "With the hierarchial (nestable), component based structure design, users can switch out components to create new systems. The code to create these systems can also be organized into separate Python packages, which we call `mBuild Recipes`."
   ]
  },
  {
   "cell_type": "markdown",
   "metadata": {},
   "source": [
    "`mBuild` allows the initialization of `Compound` objects in several different ways.  Here we demonstrate the functionality of loading a `Compound` from the 2D representation of a molecular structure known as SMILES (Simplified Molecular Input Line Entry System) string."
   ]
  },
  {
   "cell_type": "code",
   "execution_count": 1,
   "metadata": {},
   "outputs": [
    {
     "data": {
      "application/vnd.jupyter.widget-view+json": {
       "model_id": "9b2a7e5eae1c45fab05cae63db5a39f4",
       "version_major": 2,
       "version_minor": 0
      },
      "text/plain": []
     },
     "metadata": {},
     "output_type": "display_data"
    },
    {
     "data": {
      "application/3dmoljs_load.v0": "<div id=\"3dmolviewer_15931949764761071\"  style=\"position: relative; width: 640px; height: 480px\">\n        <p id=\"3dmolwarning_15931949764761071\" style=\"background-color:#ffcccc;color:black\">You appear to be running in JupyterLab (or JavaScript failed to load for some other reason).  You need to install the 3dmol extension: <br>\n        <tt>jupyter labextension install jupyterlab_3dmol</tt></p>\n        </div>\n<script>\n\nvar loadScriptAsync = function(uri){\n  return new Promise((resolve, reject) => {\n    var tag = document.createElement('script');\n    tag.src = uri;\n    tag.async = true;\n    tag.onload = () => {\n      resolve();\n    };\n  var firstScriptTag = document.getElementsByTagName('script')[0];\n  firstScriptTag.parentNode.insertBefore(tag, firstScriptTag);\n});\n};\n\nif(typeof $3Dmolpromise === 'undefined') {\n$3Dmolpromise = null;\n  $3Dmolpromise = loadScriptAsync('https://3dmol.csb.pitt.edu/build/3Dmol.js');\n}\n\nvar viewer_15931949764761071 = null;\nvar warn = document.getElementById(\"3dmolwarning_15931949764761071\");\nif(warn) {\n    warn.parentNode.removeChild(warn);\n}\n$3Dmolpromise.then(function() {\nviewer_15931949764761071 = $3Dmol.createViewer($(\"#3dmolviewer_15931949764761071\"),{backgroundColor:\"white\"});\n\tviewer_15931949764761071.addModel(\"@<TRIPOS>MOLECULE\\nRES\\n18 18 1 0 1\\nSMALL\\nNO_CHARGES\\n@<TRIPOS>CRYSIN\\n    9.8295     9.7410     7.6543    90.0000    90.0000    90.0000  1  1\\n@<TRIPOS>ATOM\\n       1 C           -1.4229     0.3272    -0.2203 C             1 RES     \\n       2 C           -0.4259     1.3947     0.2241 C             1 RES     \\n       3 C            0.9931     1.0653    -0.2328 C             1 RES     \\n       4 C            1.4191    -0.3282     0.2219 C             1 RES     \\n       5 C            0.4248    -1.3915    -0.2369 C             1 RES     \\n       6 C           -0.9921    -1.0668     0.2287 C             1 RES     \\n       7 H           -1.5134     0.3458    -1.3131 H             1 RES     \\n       8 H           -2.4144     0.5561     0.1865 H             1 RES     \\n       9 H           -0.4458     1.4788     1.3174 H             1 RES     \\n      10 H           -0.7257     2.3694    -0.1771 H             1 RES     \\n      11 H            1.6911     1.8124     0.1616 H             1 RES     \\n      12 H            1.0464     1.1233    -1.3268 H             1 RES     \\n      13 H            1.4957    -0.3479     1.3159 H             1 RES     \\n      14 H            2.4151    -0.5579    -0.1730 H             1 RES     \\n      15 H            0.7261    -2.3716     0.1495 H             1 RES     \\n      16 H            0.4427    -1.4592    -1.3315 H             1 RES     \\n      17 H           -1.0394    -1.1285     1.3228 H             1 RES     \\n      18 H           -1.6907    -1.8140    -0.1644 H             1 RES     \\n@<TRIPOS>BOND\\n       1        1        8 1\\n       2        3       12 1\\n       3        4       13 1\\n       4        2       10 1\\n       5        2        3 1\\n       6        4       14 1\\n       7        1        6 1\\n       8        2        9 1\\n       9        1        7 1\\n      10        1        2 1\\n      11        3       11 1\\n      12        5        6 1\\n      13        5       16 1\\n      14        5       15 1\\n      15        4        5 1\\n      16        3        4 1\\n      17        6       17 1\\n      18        6       18 1\\n@<TRIPOS>SUBSTRUCTURE\\n       1 RES             1 RESIDUE    0 **** ROOT      0\\n\",\"mol2\");\n\tviewer_15931949764761071.setStyle({\"stick\": {\"radius\": 0.2, \"color\": \"grey\"}, \"sphere\": {\"scale\": 0.3, \"colorscheme\": {}}});\n\tviewer_15931949764761071.zoomTo();\nviewer_15931949764761071.render();\n});\n</script>",
      "text/html": [
       "<div id=\"3dmolviewer_15931949764761071\"  style=\"position: relative; width: 640px; height: 480px\">\n",
       "        <p id=\"3dmolwarning_15931949764761071\" style=\"background-color:#ffcccc;color:black\">You appear to be running in JupyterLab (or JavaScript failed to load for some other reason).  You need to install the 3dmol extension: <br>\n",
       "        <tt>jupyter labextension install jupyterlab_3dmol</tt></p>\n",
       "        </div>\n",
       "<script>\n",
       "\n",
       "var loadScriptAsync = function(uri){\n",
       "  return new Promise((resolve, reject) => {\n",
       "    var tag = document.createElement('script');\n",
       "    tag.src = uri;\n",
       "    tag.async = true;\n",
       "    tag.onload = () => {\n",
       "      resolve();\n",
       "    };\n",
       "  var firstScriptTag = document.getElementsByTagName('script')[0];\n",
       "  firstScriptTag.parentNode.insertBefore(tag, firstScriptTag);\n",
       "});\n",
       "};\n",
       "\n",
       "if(typeof $3Dmolpromise === 'undefined') {\n",
       "$3Dmolpromise = null;\n",
       "  $3Dmolpromise = loadScriptAsync('https://3dmol.csb.pitt.edu/build/3Dmol.js');\n",
       "}\n",
       "\n",
       "var viewer_15931949764761071 = null;\n",
       "var warn = document.getElementById(\"3dmolwarning_15931949764761071\");\n",
       "if(warn) {\n",
       "    warn.parentNode.removeChild(warn);\n",
       "}\n",
       "$3Dmolpromise.then(function() {\n",
       "viewer_15931949764761071 = $3Dmol.createViewer($(\"#3dmolviewer_15931949764761071\"),{backgroundColor:\"white\"});\n",
       "\tviewer_15931949764761071.addModel(\"@<TRIPOS>MOLECULE\\nRES\\n18 18 1 0 1\\nSMALL\\nNO_CHARGES\\n@<TRIPOS>CRYSIN\\n    9.8295     9.7410     7.6543    90.0000    90.0000    90.0000  1  1\\n@<TRIPOS>ATOM\\n       1 C           -1.4229     0.3272    -0.2203 C             1 RES     \\n       2 C           -0.4259     1.3947     0.2241 C             1 RES     \\n       3 C            0.9931     1.0653    -0.2328 C             1 RES     \\n       4 C            1.4191    -0.3282     0.2219 C             1 RES     \\n       5 C            0.4248    -1.3915    -0.2369 C             1 RES     \\n       6 C           -0.9921    -1.0668     0.2287 C             1 RES     \\n       7 H           -1.5134     0.3458    -1.3131 H             1 RES     \\n       8 H           -2.4144     0.5561     0.1865 H             1 RES     \\n       9 H           -0.4458     1.4788     1.3174 H             1 RES     \\n      10 H           -0.7257     2.3694    -0.1771 H             1 RES     \\n      11 H            1.6911     1.8124     0.1616 H             1 RES     \\n      12 H            1.0464     1.1233    -1.3268 H             1 RES     \\n      13 H            1.4957    -0.3479     1.3159 H             1 RES     \\n      14 H            2.4151    -0.5579    -0.1730 H             1 RES     \\n      15 H            0.7261    -2.3716     0.1495 H             1 RES     \\n      16 H            0.4427    -1.4592    -1.3315 H             1 RES     \\n      17 H           -1.0394    -1.1285     1.3228 H             1 RES     \\n      18 H           -1.6907    -1.8140    -0.1644 H             1 RES     \\n@<TRIPOS>BOND\\n       1        1        8 1\\n       2        3       12 1\\n       3        4       13 1\\n       4        2       10 1\\n       5        2        3 1\\n       6        4       14 1\\n       7        1        6 1\\n       8        2        9 1\\n       9        1        7 1\\n      10        1        2 1\\n      11        3       11 1\\n      12        5        6 1\\n      13        5       16 1\\n      14        5       15 1\\n      15        4        5 1\\n      16        3        4 1\\n      17        6       17 1\\n      18        6       18 1\\n@<TRIPOS>SUBSTRUCTURE\\n       1 RES             1 RESIDUE    0 **** ROOT      0\\n\",\"mol2\");\n",
       "\tviewer_15931949764761071.setStyle({\"stick\": {\"radius\": 0.2, \"color\": \"grey\"}, \"sphere\": {\"scale\": 0.3, \"colorscheme\": {}}});\n",
       "\tviewer_15931949764761071.zoomTo();\n",
       "viewer_15931949764761071.render();\n",
       "});\n",
       "</script>"
      ]
     },
     "metadata": {},
     "output_type": "display_data"
    },
    {
     "data": {
      "text/plain": [
       "<py3Dmol.view at 0x11b7dc9d0>"
      ]
     },
     "execution_count": 1,
     "metadata": {},
     "output_type": "execute_result"
    }
   ],
   "source": [
    "import mbuild as mb\n",
    "# Loading a compound from a SMILES string\n",
    "compound = mb.load('C1CCCCC1', smiles=True)\n",
    "compound.visualize()"
   ]
  },
  {
   "cell_type": "markdown",
   "metadata": {},
   "source": [
    "Initialization of a molecule from a SMILES string is a handy tool to quickly create small molecules, since they can be easily found in a public database, such as https://pubchem.ncbi.nlm.nih.gov/ \n",
    "\n",
    "\n",
    "In the demonstration below, you can try to enter a SMILES string, and the `mbuild` library will read it in, turn it into a `mbuild.Compound` and visualize it with `py3dmol`! \n",
    "\n",
    "\n",
    "If you don't have one in mind, try:\n",
    "- Caffeine: `CN1C=NC2=C1C(=O)N(C(=O)N2C)C`\n",
    "- Nicotine: `CN1CCCC1C2=CN=CC=C2`\n",
    "- Cannabidiol: `CCCCCC1=CC(=C(C(=C1)O)C2C=C(CCC2C(=C)C)C)O`"
   ]
  },
  {
   "cell_type": "code",
   "execution_count": 3,
   "metadata": {
    "scrolled": true
   },
   "outputs": [
    {
     "data": {
      "application/vnd.jupyter.widget-view+json": {
       "model_id": "5d0866d00c2d4e7ba94f06625a4850d4",
       "version_major": 2,
       "version_minor": 0
      },
      "text/plain": [
       "Text(value='', description='SMILES:', placeholder='Enter a SMILES string', style=DescriptionStyle(description_…"
      ]
     },
     "metadata": {},
     "output_type": "display_data"
    },
    {
     "data": {
      "application/vnd.jupyter.widget-view+json": {
       "model_id": "a98c31def46a417fb0da6e2c7e49400e",
       "version_major": 2,
       "version_minor": 0
      },
      "text/plain": [
       "Output()"
      ]
     },
     "metadata": {},
     "output_type": "display_data"
    }
   ],
   "source": [
    "import src.widget_events as widgets\n",
    "import ipywidgets as iwidgets\n",
    "\n",
    "display(widgets.smiles_box)\n",
    "display(widgets.out_smiles)"
   ]
  },
  {
   "cell_type": "markdown",
   "metadata": {},
   "source": [
    "`mbuild.load()` can easily load in a wide range of common molecule file formats, such as `pdb`, `mol2`, `xyz`, etc.\n",
    "\n",
    "In this example workflow, we will demonstrate the process of loading small molecules from `mol2` files located in this repo to build a box of molecules, where users can specify the size of the box and the number of particles in the box. "
   ]
  },
  {
   "cell_type": "code",
   "execution_count": null,
   "metadata": {},
   "outputs": [],
   "source": [
    "display(widgets.compound_dropdown)\n",
    "display(widgets.out_mol)"
   ]
  },
  {
   "cell_type": "code",
   "execution_count": null,
   "metadata": {
    "scrolled": false
   },
   "outputs": [],
   "source": [
    "display(iwidgets.VBox([widgets.box_slider, widgets.n_slider]))\n",
    "display(widgets.out_box)"
   ]
  },
  {
   "cell_type": "markdown",
   "metadata": {},
   "source": [
    "A detailed series of tutorials showcasing feature and use-cases of `mBuild` can be found at https://github.com/mosdef-hub/mosdef_tutorials)\n",
    "\n",
    "\n",
    "Due to restriction of forcefield parameters availability, the example workflow will continue with the box of compound selected from the drop down list."
   ]
  },
  {
   "cell_type": "markdown",
   "metadata": {},
   "source": [
    "### Foyer - https://github.com/mosdef-hub/foyer/\n",
    "\n",
    "`Foyer` is the atom-typing and parameterization package within the MoSDeF suite of tools. In molecular simulation, the bonded and non-bonded parameters that define the interactions between particles is called a Force Field.  These interaction parameters are derived by fitting to a specific physical property, such as density.\n",
    "\n",
    "\n",
    "In `Foyer`, force field information is contained within an XML file, that can be loaded in as a `Forcefield` object.  By calling `Forcefield.apply()` on an `mbuild.Compound`, the force field parameters are automatically applied to the compound, returning a fully parametrized system.\n",
    "\n",
    "\n",
    "Below we will demonstrate the process of initializing a `Forcefield` object with foyer, and applying the force field parameters to the `mBuild.Compound` initialized above.  We will use the General Amber Force Field (GAFF) using the `GAFF-foyer` plugin, and we will assign partial charges to each atom by using the `antefoyer` plugin."
   ]
  },
  {
   "cell_type": "code",
   "execution_count": null,
   "metadata": {},
   "outputs": [],
   "source": [
    "import foyer\n",
    "import antefoyer\n",
    "\n",
    "gaff_ff = foyer.forcefields.load_GAFF()\n",
    "\n",
    "if widgets.BOX_OF_COMPOUNDS:\n",
    "    typed_compound = gaff_ff.apply(widgets.BOX_OF_COMPOUNDS,\n",
    "                              assert_dihedral_params=False)\n",
    "else:\n",
    "    print('Please pick a molecule from the dropdown above.')"
   ]
  },
  {
   "cell_type": "markdown",
   "metadata": {},
   "source": [
    "We have written a small function to help apply the partial charges with `antefoyer` and `antechamber`.  The charge assignment method we are using is `AM1BCC`, and we are setting the net charge to `0.0`."
   ]
  },
  {
   "cell_type": "code",
   "execution_count": null,
   "metadata": {},
   "outputs": [],
   "source": [
    "def apply_charges(box_structure, single_compound, n_atoms, ff):\n",
    "    single_mol_struct_charge = antefoyer.ante_charges(\n",
    "            single_compound, 'bcc', net_charge=0.00, multiplicity=1)\n",
    "    \n",
    "    for index, atom in enumerate(box_structure.atoms):\n",
    "        atom.charge = single_mol_struct_charge.atoms[index%n_atoms].charge\n",
    "    return box_structure"
   ]
  },
  {
   "cell_type": "code",
   "execution_count": null,
   "metadata": {},
   "outputs": [],
   "source": [
    "charge_structure = apply_charges(box_structure=typed_compound,\n",
    "                                 single_compound=widgets.COMPOUND,\n",
    "                                 n_atoms=widgets.COMPOUND.n_particles,\n",
    "                                 ff=gaff_ff)"
   ]
  },
  {
   "cell_type": "markdown",
   "metadata": {},
   "source": [
    "### GMSO (under development) - https://github.com/mosdef-hub/gmso\n",
    "\n",
    "`GMSO` is designed to be a general and flexible representation of chemical topologies for molecular system. The package is currently underdevelopment, but it is set to become the backend data structure for `foyer` to store all the information of a typed molecular system.\n",
    "\n",
    "The main attribute that set `GMSO` apart from other available similar library is its generality and explicity. By assuming at little as possible about the chemical system, model, or engine, `GMSO` can support a variety of systems with different type of force field. "
   ]
  },
  {
   "cell_type": "code",
   "execution_count": null,
   "metadata": {
    "scrolled": false
   },
   "outputs": [],
   "source": [
    "import gmso\n",
    "import gmso.external\n",
    "import gmso.formats\n",
    "import warnings\n",
    "warnings.filterwarnings(\"ignore\")\n",
    "\n",
    "topology = gmso.external.from_parmed(charge_structure)\n",
    "topology.name = widgets.COMPOUND.name"
   ]
  },
  {
   "cell_type": "markdown",
   "metadata": {},
   "source": [
    "`GMSO` emphasizes on the explicity of forcefield parameters. Hence, the library utilizes `sympy.expression` to store the expression for all the Type (AtomType, BondType, etc.), and `unyt` to keep track of all corresponding parameters' unit. An example of an AtomType's expression and parameters is shown below."
   ]
  },
  {
   "cell_type": "code",
   "execution_count": null,
   "metadata": {},
   "outputs": [],
   "source": [
    "display(topology.sites[0].atom_type.expression)\n",
    "display(topology.sites[0].atom_type.parameters)"
   ]
  },
  {
   "cell_type": "markdown",
   "metadata": {},
   "source": [
    "Last but not least, the most important task of `GMSO`, or any chemical topolgy backend, is to save out accurate molecular topology file that can be read and execute by simulation engine. Since generality is one of the main focus of `GMSO`, we plan to support writing out to as many types of molecular file as possible. Currently, we already have writers for a few popular simulation code such as LAMMPS and GROMACS. "
   ]
  },
  {
   "cell_type": "code",
   "execution_count": null,
   "metadata": {},
   "outputs": [],
   "source": [
    "gmso.formats.write_top(topology, \"simulation/topol.top\", \n",
    "                       top_vars={\"fudgeLJ\": 0.5, \"fudgeQQ\": 0.8, \"comb-rule\": \"geometric\"})\n",
    "gmso.formats.write_gro(topology, \"simulation/conf.gro\")"
   ]
  },
  {
   "cell_type": "markdown",
   "metadata": {},
   "source": [
    "Time to run the simulation! We are using GROMACS to simulate a short equilibrium simulation of small molecules in a box."
   ]
  },
  {
   "cell_type": "code",
   "execution_count": null,
   "metadata": {},
   "outputs": [],
   "source": [
    "from run_simulation import run_energy_minimization, run_nvt\n",
    "run_energy_minimization()\n",
    "run_nvt()"
   ]
  },
  {
   "cell_type": "markdown",
   "metadata": {},
   "source": [
    "The result can be analyzed by other available analysis library such as `panedr`."
   ]
  },
  {
   "cell_type": "code",
   "execution_count": null,
   "metadata": {},
   "outputs": [],
   "source": [
    "import panedr\n",
    "import matplotlib.pyplot as plt\n",
    "sim_data = panedr.edr_to_df(\"simulation/ener.edr\")\n",
    "\n",
    "plt.figure(dpi=350, figsize=(5, 5))\n",
    "plt.plot(sim_data[\"Time\"], sim_data[\"Temperature\"])"
   ]
  },
  {
   "cell_type": "markdown",
   "metadata": {},
   "source": [
    "We can visualize the what happened in in the simulation using `nglview`."
   ]
  },
  {
   "cell_type": "code",
   "execution_count": null,
   "metadata": {
    "scrolled": true
   },
   "outputs": [],
   "source": [
    "from run_simulation import visualize_trajectory\n",
    "\n",
    "visualize_trajectory()"
   ]
  },
  {
   "cell_type": "markdown",
   "metadata": {},
   "source": [
    "The script to run this example workflow can be found in `workflow.py`, which is in the same directory as this notebook. User can execute the script by `python workflow.py`, and follow instruction to provide:\n",
    "- Path to the molecule file\n",
    "- Dimension of the box \n",
    "- Number of molecules in the box"
   ]
  },
  {
   "cell_type": "markdown",
   "metadata": {},
   "source": [
    "### More links\n",
    "\n",
    "- The above example only present a fraction of MoSDeF's capabilities. More information of about this software suite can be found at:\n",
    "    - https://mosdef.org\n",
    "    - https://github.com/mosdef-hub\n",
    "- More example of MoSDeF workflow with more interesting system can be found at:\n",
    "    - https://github.com/mosdef-hub/mosdef-workflows\n",
    "    - https://github.com/daico007/TRUE-nanotribology\n",
    "    - https://github.com/uppittu11/true_lipids\n",
    "    - https://github.com/rmatsum836/true_graphene"
   ]
  }
 ],
 "metadata": {
  "kernelspec": {
   "display_name": "Python 3",
   "language": "python",
   "name": "python3"
  },
  "language_info": {
   "codemirror_mode": {
    "name": "ipython",
    "version": 3
   },
   "file_extension": ".py",
   "mimetype": "text/x-python",
   "name": "python",
   "nbconvert_exporter": "python",
   "pygments_lexer": "ipython3",
   "version": "3.7.6"
  }
 },
 "nbformat": 4,
 "nbformat_minor": 4
}
