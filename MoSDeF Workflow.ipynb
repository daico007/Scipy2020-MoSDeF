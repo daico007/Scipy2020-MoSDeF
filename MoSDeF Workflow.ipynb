{
 "cells": [
  {
   "cell_type": "markdown",
   "metadata": {},
   "source": [
    "<img src='./images/Rectangle.svg' width=400 height=400/>\n",
    "\n",
    "\n",
    "**<u>Mo</u>**lecular **<u>S</u>**imulation **<u>De</u>**sign **<u>F</u>**ramework, or MoSDeF, is a robust Python-based, open-source software framework designed to faciliate the initialization, atom-typing, and screening of soft matter systems for molecular simulation. The project was initially developed at Vanderbilt University, in collaboration with software engineers from the Vanderbilt Institute for Software Integrated Systems (ISIS). The project has now expanded into a multi-university collaboration with Vanderbilt University as the lead institution. \n",
    "\n",
    "\n",
    "The MoSDeF software suite comprises three main libraries: `mbuild`, `foyer`, and `GMSO`.  Each library targets a different step of system initialization. Specifically, the `mbuild` library can be used to systematically construct any molecular system, including atomistic and coarse-grained molecules. `Foyer` can be used to assign interaction parameters to all particles, bonds, angles, and dihedrals in the created system. Finally, the `GMSO` library, currently under development, will serve as the main data structure to store all the information of the system, including the details of the system (particles and their positions) along with interaction types and parameters of that system. \n",
    "\n",
    "\n",
    "The MoSDeF tools allow users to build complicated systems in a manner that is scriptable and automatable.   This enables molecular simulation studies to be more transparent and reproducible, as these scripts can be easily shared on software hosting services, such as GitHub.  Automation also allows for rapid system initialization for large-scale screening studies, a rapidly growing subset of the molecular simulation field."
   ]
  },
  {
   "cell_type": "markdown",
   "metadata": {},
   "source": [
    "## Notebook Overview\n",
    "\n",
    "In this notebook, we will demonstrate how MoSDeF can be used in a molecular simulation workflow. Along the way we will highlight important features of each package. In context of a short demonstration, we will run a simple simulation (equilibrium simulation of a box of small molecules). At the end of the notebook, examples of more complicated workflows/tutorials, which were inspired by previously published work, are included.\n",
    "\n",
    "For demonstration purposes, we will be using [ipywidgets](https://ipywidgets.readthedocs.io/en/latest/) to show off various functionality of MoSDeF.  Note that typical system initialization workflows using MoSDeF are entirely written in Python and do not involve the use of Widgets. Once any of the widgets are activated, it will also print the script of what is happening under the hood.\n",
    "\n",
    "For reproducible molecular simulations, using graphical user interfaces (GUIs) are discouraged, as these tools usually obfuscate the specific settings and parameters needed to replicate the work by an external user. Although, in demonstrations and presentations, GUIs can be quite valuable as a visual aid."
   ]
  },
  {
   "cell_type": "markdown",
   "metadata": {},
   "source": [
    "### mBuild\n",
    "\n",
    "Check out `mbuild` here:\n",
    "* https://github.com/mosdef-hub/mbuild\n",
    "* https://mbuild.mosdef.org\n",
    "\n",
    "`mBuild` is the molecule building library within MoSDeF. This library includes features that allow users to create complex molecular systems starting from the particle level. The core data structure in `mbuild` is the `Compound` class, which can be used to represent anything from a single particle to a complete system with ten of thoudsands of particles.  \n",
    "<img src='images/pmpc.png' width=800 height=800/>\n",
    "With the hierarchial (nestable), component-based design, users can switch out components programmatically to create new systems. The code to create these systems can also be organized into separate Python plugins, which we call `mbuild Recipes`."
   ]
  },
  {
   "cell_type": "markdown",
   "metadata": {},
   "source": [
    "`mBuild` allows the initialization of `Compound` objects in several different ways.  Here we demonstrate the functionality of loading a `Compound` from the 2D representation of a molecular structure known as SMILES (Simplified Molecular Input Line Entry System) string."
   ]
  },
  {
   "cell_type": "code",
   "execution_count": null,
   "metadata": {},
   "outputs": [],
   "source": [
    "import mbuild as mb\n",
    "# Loading a compound from a SMILES string\n",
    "compound = mb.load('C1CCCCC1', smiles=True)\n",
    "compound.visualize()"
   ]
  },
  {
   "cell_type": "markdown",
   "metadata": {},
   "source": [
    "Initialization of a molecule from a SMILES string is a handy tool to quickly create small molecules, since they can be easily found in a public database, such as https://pubchem.ncbi.nlm.nih.gov/ \n",
    "\n",
    "\n",
    "In the demonstration below, you can try to enter a SMILES string, and the `mbuild` library will read it in, turn it into a `mbuild.Compound` and visualize it with `py3dmol`! \n",
    "\n",
    "\n",
    "If you don't have one in mind, try:\n",
    "- Caffeine: `CN1C=NC2=C1C(=O)N(C(=O)N2C)C`\n",
    "- Nicotine: `CN1CCCC1C2=CN=CC=C2`\n",
    "- Cholesterol: `CC(C)CCCC(C)C1CCC2C1(CCC3C2CC=C4C3(CCC(C4)O)C)C`"
   ]
  },
  {
   "cell_type": "code",
   "execution_count": null,
   "metadata": {
    "scrolled": false
   },
   "outputs": [],
   "source": [
    "import src.widget_events as widgets\n",
    "import ipywidgets as iwidgets\n",
    "\n",
    "display(widgets.smiles_box)\n",
    "display(widgets.out_smiles)"
   ]
  },
  {
   "cell_type": "markdown",
   "metadata": {},
   "source": [
    "`mbuild.load()` can easily load in a wide range of common molecule file formats, such as `pdb`, `mol2`, `xyz`, etc.\n",
    "\n",
    "In this example workflow, we will demonstrate the process of loading small molecules from `mol2` files located in this repo to build a box of molecules, where users can specify the size of the box and the number of particles in the box. "
   ]
  },
  {
   "cell_type": "code",
   "execution_count": null,
   "metadata": {},
   "outputs": [],
   "source": [
    "display(widgets.compound_dropdown)\n",
    "display(widgets.out_mol)"
   ]
  },
  {
   "cell_type": "code",
   "execution_count": null,
   "metadata": {},
   "outputs": [],
   "source": [
    "display(iwidgets.VBox([widgets.box_slider, widgets.n_slider]))\n",
    "display(widgets.out_box)"
   ]
  },
  {
   "cell_type": "markdown",
   "metadata": {},
   "source": [
    "A detailed series of tutorials showcasing features and use-cases of `mbuild` can be found at https://github.com/mosdef-hub/mosdef_tutorials\n",
    "\n",
    "\n",
    "Due to restriction of forcefield parameters availability, the example workflow will continue with the box of compound selected from the drop down list."
   ]
  },
  {
   "cell_type": "markdown",
   "metadata": {},
   "source": [
    "### Foyer\n",
    "Check out `foyer` here:\n",
    "* https://github.com/mosdef-hub/foyer/\n",
    "* https://foyer.mosdef.org\n",
    "\n",
    "`Foyer` is the atom-typing and parameterization library within MoSDeF. In molecular simulation, the bonded and non-bonded parameters that define the interactions between particles are called a force field.  These interaction parameters are derived by fitting to a specific physical property, such as density.\n",
    "\n",
    "\n",
    "In `foyer`, force field information is contained within an XML file, that can be loaded in as a `Forcefield` object.  By calling `Forcefield.apply()` on an `mbuild.Compound`, if matches are found, the force field parameters are automatically applied to the compound, returning a fully parametrized system.\n",
    "\n",
    "\n",
    "Below we will demonstrate the process of initializing a `Forcefield` object with foyer, and applying the force field parameters to the `mbuild.Compound` initialized above.  We will use the General Amber Force Field (GAFF) using the `GAFF-foyer` plugin, and we will assign partial charges to each atom by using the `antefoyer` plugin.\n",
    "\n",
    "These are two great examples of the extensibility of the MoSDeF tools and its robust setuptools-inspired plugin system. These plugins can be developed independently of `mbuild` or `foyer` and when installed, are dynamically loaded by their respective package."
   ]
  },
  {
   "cell_type": "code",
   "execution_count": null,
   "metadata": {},
   "outputs": [],
   "source": [
    "import foyer\n",
    "import antefoyer\n",
    "\n",
    "gaff_ff = foyer.forcefields.load_GAFF()\n",
    "\n",
    "if widgets.BOX_OF_COMPOUNDS:\n",
    "    typed_compound = gaff_ff.apply(widgets.BOX_OF_COMPOUNDS,\n",
    "                              assert_dihedral_params=False)\n",
    "else:\n",
    "    print('Please pick a molecule from the dropdown above.')"
   ]
  },
  {
   "cell_type": "markdown",
   "metadata": {},
   "source": [
    "We have written a small function to help apply the partial charges with `antefoyer` and `antechamber`.  The charge assignment method we are using is `AM1BCC`, and we are setting the net charge to `0.0`."
   ]
  },
  {
   "cell_type": "code",
   "execution_count": null,
   "metadata": {},
   "outputs": [],
   "source": [
    "def apply_charges(box_structure, single_compound, n_atoms, ff):\n",
    "    single_mol_struct_charge = antefoyer.ante_charges(\n",
    "            single_compound, 'bcc', net_charge=0.00, multiplicity=1)\n",
    "    \n",
    "    for index, atom in enumerate(box_structure.atoms):\n",
    "        atom.charge = single_mol_struct_charge.atoms[index%n_atoms].charge\n",
    "    return box_structure"
   ]
  },
  {
   "cell_type": "code",
   "execution_count": null,
   "metadata": {},
   "outputs": [],
   "source": [
    "charge_structure = apply_charges(box_structure=typed_compound,\n",
    "                                 single_compound=widgets.COMPOUND,\n",
    "                                 n_atoms=widgets.COMPOUND.n_particles,\n",
    "                                 ff=gaff_ff)"
   ]
  },
  {
   "cell_type": "markdown",
   "metadata": {},
   "source": [
    "### GMSO (under development) \n",
    "Check out `GMSO` here:\n",
    "- https://github.com/mosdef-hub/gmso\n",
    "- https://gmso.mosdef.org\n",
    "\n",
    "`GMSO` is designed to be a general and flexible representation of chemical topologies for molecular system. The package is currently under development, but it is set to become the default backend data structure for `foyer` to store all the information of a typed molecular system.\n",
    "\n",
    "The main attribute that sets `GMSO` apart from similar libraries is its generality. By assuming as little as possible about the chemical system, model, or engine, `GMSO` can support a variety of systems with different type of force fields and interaction expressions. "
   ]
  },
  {
   "cell_type": "code",
   "execution_count": null,
   "metadata": {},
   "outputs": [],
   "source": [
    "import gmso\n",
    "import gmso.external\n",
    "import gmso.formats\n",
    "import warnings\n",
    "warnings.filterwarnings(\"ignore\")\n",
    "\n",
    "topology = gmso.external.from_parmed(charge_structure)\n",
    "topology.name = widgets.COMPOUND.name"
   ]
  },
  {
   "cell_type": "markdown",
   "metadata": {},
   "source": [
    "`GMSO` expects explicit definitions when defining forcefield parameters. Hence, the library utilizes [sympy](https://sympy.org), specifically the `sympy.expression` module to store the expression for all functional forms used to define molecular interactions (AtomType, BondType, etc.), and the [unyt library](https://unyt.readthedocs.io) to keep track of all corresponding parameters' units. An example of an AtomType's expression and its parameters are shown below.\n",
    "\n",
    "This example defines the particle-particle interactions between any two pairs of particles using the functional form of the [Lennard-Jones potential](https://en.wikipedia.org/wiki/Lennard-Jones_potential), where the parameters `sigma` and `epsilon` are defined for each particle in the system."
   ]
  },
  {
   "cell_type": "code",
   "execution_count": null,
   "metadata": {},
   "outputs": [],
   "source": [
    "display(topology.sites[0].atom_type.expression)\n",
    "display(topology.sites[0].atom_type.parameters)"
   ]
  },
  {
   "cell_type": "markdown",
   "metadata": {},
   "source": [
    "Last but not least, the most important task of `GMSO`, or any chemical topolgy backend, is to save out accurate molecular topology files that can be read and executed by various simulation engines. Since generality is one of the main focuses of `GMSO`, we plan to support writing out to as many types of molecular file formats as possible. Currently, we already have writers for a few popular simulation codes such as LAMMPS and GROMACS.\n",
    "\n",
    "Using `sympy` to define the various functional forms that could possibly be supported by various engines grants `GMSO` the ability to write to any simulation engine that might support said functional form, a feature that is lacking in most/all other chemical topology packages."
   ]
  },
  {
   "cell_type": "code",
   "execution_count": null,
   "metadata": {},
   "outputs": [],
   "source": [
    "gmso.formats.write_top(topology, \"simulation/topol.top\", \n",
    "                       top_vars={\"fudgeLJ\": 0.5, \"fudgeQQ\": 0.8, \"comb-rule\": \"geometric\"})\n",
    "gmso.formats.write_gro(topology, \"simulation/conf.gro\")"
   ]
  },
  {
   "cell_type": "markdown",
   "metadata": {},
   "source": [
    "Time to run the simulation! We are using GROMACS to simulate a short equilibrium simulation of small molecules in a box."
   ]
  },
  {
   "cell_type": "code",
   "execution_count": null,
   "metadata": {},
   "outputs": [],
   "source": [
    "from run_simulation import run_energy_minimization, run_nvt\n",
    "run_energy_minimization()\n",
    "run_nvt()"
   ]
  },
  {
   "cell_type": "markdown",
   "metadata": {},
   "source": [
    "The result can be analyzed by other available analysis library such as [the `panedr` package](https://github.com/jbarnoud/panedr) which converts the energy file output by GROMACS into a `pandas` `DataFrame`."
   ]
  },
  {
   "cell_type": "code",
   "execution_count": null,
   "metadata": {},
   "outputs": [],
   "source": [
    "import panedr\n",
    "import matplotlib.pyplot as plt\n",
    "sim_data = panedr.edr_to_df(\"simulation/ener.edr\")\n",
    "\n",
    "plt.figure(dpi=350, figsize=(5, 5))\n",
    "plt.plot(sim_data[\"Time\"], sim_data[\"Temperature\"])"
   ]
  },
  {
   "cell_type": "markdown",
   "metadata": {},
   "source": [
    "We can visualize the movement of the molecules during the simualtion using [the `nglview` package](https://github.com/arose/nglview)."
   ]
  },
  {
   "cell_type": "code",
   "execution_count": null,
   "metadata": {
    "scrolled": true
   },
   "outputs": [],
   "source": [
    "from run_simulation import visualize_trajectory\n",
    "\n",
    "visualize_trajectory()"
   ]
  },
  {
   "cell_type": "markdown",
   "metadata": {},
   "source": [
    "The script to run this example workflow can be found in `workflow.py`, which is in the same directory as this notebook. Users can execute the script with the command `python workflow.py`, and follow the instructions to provide:\n",
    "- Path to the molecule file\n",
    "- Dimension of the box \n",
    "- Number of molecules in the box"
   ]
  },
  {
   "cell_type": "markdown",
   "metadata": {},
   "source": [
    "### More links\n",
    "\n",
    "- The above example only present a fraction of MoSDeF's capabilities. More information of about this software suite can be found at:\n",
    "    - https://mosdef.org\n",
    "    - https://github.com/mosdef-hub\n",
    "- More example of MoSDeF workflows with more interesting systems can be found at:\n",
    "    - https://github.com/mosdef-hub/mosdef-workflows\n",
    "    - https://github.com/daico007/TRUE-nanotribology\n",
    "    - https://github.com/uppittu11/true_lipids\n",
    "    - https://github.com/rmatsum836/true_graphene"
   ]
  }
 ],
 "metadata": {
  "kernelspec": {
   "display_name": "Python 3",
   "language": "python",
   "name": "python3"
  },
  "language_info": {
   "codemirror_mode": {
    "name": "ipython",
    "version": 3
   },
   "file_extension": ".py",
   "mimetype": "text/x-python",
   "name": "python",
   "nbconvert_exporter": "python",
   "pygments_lexer": "ipython3",
   "version": "3.7.6"
  }
 },
 "nbformat": 4,
 "nbformat_minor": 4
}
