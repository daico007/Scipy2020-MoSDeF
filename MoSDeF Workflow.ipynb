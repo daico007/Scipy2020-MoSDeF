{
 "cells": [
  {
   "cell_type": "markdown",
   "metadata": {},
   "source": [
    "<img src='./images/Rectangle.svg'/>\n",
    "\n",
    "\n",
    "- **<u>Mo</u>**lecular **<u>S</u>**imulation **<u>De</u>**sign **<u>F</u>**ramework, or MoSDeF, is a robust Python-based, open-source software framework designed to faciliate the initialization, atom-typing, and screeening of soft matter system using molecular dynamics simulation. The project was developed initially at Vanderbilt University, in collaboration with software engineer from the Institute for Software Integrated System (ISIS). The project later expanded into a multi-university collaboration with Vanderbilt University being the lead institute. \n",
    "\n",
    "- The MoSDeF software suite comprises several libraries, namely `mbuild`, `foyer`, and `gmso`, each targets a different component of system initialization. Specifically, `mbuild` library can be used to systematically construct any molecular systems, either atomistic or coarse-grained, while `foyer` can be used to atom-type (assign type and parameters) to all particles, bonds, angles, and dihedrals in the created system. The `gmso` library, which is still under development, will be the main data structure that can be used to store all the information of the system, including the details of the system (particles and their positions) and parameters of all the atom types, bond types, angle types, and dihedral types. \n",
    "\n",
    "- By creating tools that allow user to easily put together complicated system and automating \"trivial\" but rather tedius steps (such as writing out to simulation engine specific molecular files), MoSDeF allows user to focus on system design, be able to build more (quantity-wise) and complicated systems. This does not increase the capability of molecular research, especially screening studies, where research iterate over a wide variable space (so many of unqiue systems), but also improve the overall reprodicibility by minimizing human errors in most error proning steps."
   ]
  },
  {
   "cell_type": "markdown",
   "metadata": {},
   "source": [
    "## This Poster\n",
    "\n",
    "- In this poster, we will try to demonstrate how MoSDeF can be used in a molecular simulation workflow. Along the way we will highlight important features of each package. However, in context of a short demonstration, we will only do a rather simple simulation (equilibrium simulation of a box of small molecules). We will include examples of more complicated example/tutorials, which were created based on published work but has been simplified for pegodagy/demonstration purpose."
   ]
  },
  {
   "cell_type": "markdown",
   "metadata": {},
   "source": [
    "### mBuild\n",
    "\n",
    "- `mBuild` is MoSDeF's molecular building library within MoSDeF. The library is hosted on github (https://github.com/mosdef-hub/mbuild), including a series of tutorials showcasing its importance feature and use-cases. \n",
    "- In simple term, this library included features that allow user to create a molecular system in various way: loading from different files format, from SMILES string (a 2D representation of molecule), or building molecular system starting from a particle to a molcules, and stacking those in a hierarchy manner. Users can also create their own class of molecular system, and added back as an extension to the core `mbuild` library. "
   ]
  },
  {
   "cell_type": "markdown",
   "metadata": {},
   "source": [
    "- Create a molecule from a SMILES string is very handy tool go get create most small molecules. A SMILES string is a 2D representation of molecule, the SMILES string of most small molecules can be found in public database, such as https://pubchem.ncbi.nlm.nih.gov/ \n",
    "- We have a small demonstration below, you can try enter a SMILES string and our `mbuild` library will read it in, turn it into a `mbuild.Compound` and visualize it! (If you don't have one in mind, try \"C1CCCCC1\")"
   ]
  },
  {
   "cell_type": "code",
   "execution_count": 5,
   "metadata": {},
   "outputs": [
    {
     "data": {
      "application/vnd.jupyter.widget-view+json": {
       "model_id": "c5737c4cedcb4c76ac9d18b5fbce0ffe",
       "version_major": 2,
       "version_minor": 0
      },
      "text/plain": [
       "Text(value='', description='SMILES:', placeholder='Enter a SMILES string (try \"C1=CC=CC=C1\" for benzene)', sty…"
      ]
     },
     "metadata": {},
     "output_type": "display_data"
    },
    {
     "data": {
      "application/vnd.jupyter.widget-view+json": {
       "model_id": "42784060572845bfacdda0a74dab6fa9",
       "version_major": 2,
       "version_minor": 0
      },
      "text/plain": [
       "Output()"
      ]
     },
     "metadata": {},
     "output_type": "display_data"
    }
   ],
   "source": [
    "import src.widget_events as widgets\n",
    "import ipywidgets as iwidgets\n",
    "\n",
    "display(widgets.smiles_box)\n",
    "display(widgets.out_smiles)"
   ]
  },
  {
   "cell_type": "markdown",
   "metadata": {},
   "source": [
    "- In this example, particularly, we will demonstrate a simple process of loading a small molecules from file, and used that to build a box of molecules, where user can specify the size of the box and the number of particles in the box. "
   ]
  },
  {
   "cell_type": "code",
   "execution_count": 2,
   "metadata": {
    "scrolled": true
   },
   "outputs": [
    {
     "data": {
      "application/vnd.jupyter.widget-view+json": {
       "model_id": "021f2c16f75e4b8a800ba3cb65095e77",
       "version_major": 2,
       "version_minor": 0
      },
      "text/plain": [
       "Dropdown(description='Select your molecule', options={'Select your molecule': None, 'methyl-acetate': <Compoun…"
      ]
     },
     "metadata": {},
     "output_type": "display_data"
    },
    {
     "data": {
      "application/vnd.jupyter.widget-view+json": {
       "model_id": "7173e15b625e4facb9288ba17f3ac261",
       "version_major": 2,
       "version_minor": 0
      },
      "text/plain": [
       "Output()"
      ]
     },
     "metadata": {},
     "output_type": "display_data"
    }
   ],
   "source": [
    "display(widgets.compound_dropdown)\n",
    "display(widgets.out_mol)"
   ]
  },
  {
   "cell_type": "code",
   "execution_count": 3,
   "metadata": {
    "scrolled": false
   },
   "outputs": [
    {
     "data": {
      "application/vnd.jupyter.widget-view+json": {
       "model_id": "1a404c24f17543c3bcaa9a0caa679b79",
       "version_major": 2,
       "version_minor": 0
      },
      "text/plain": [
       "VBox(children=(FloatSlider(value=5.0, description='Dimension of box', max=10.0, min=1.0, style=SliderStyle(des…"
      ]
     },
     "metadata": {},
     "output_type": "display_data"
    },
    {
     "data": {
      "application/vnd.jupyter.widget-view+json": {
       "model_id": "5c4cce770900467eba8891ecdaab7d82",
       "version_major": 2,
       "version_minor": 0
      },
      "text/plain": [
       "Output()"
      ]
     },
     "metadata": {},
     "output_type": "display_data"
    }
   ],
   "source": [
    "display(iwidgets.VBox([widgets.box_slider, widgets.n_slider]))\n",
    "display(widgets.out_box)"
   ]
  },
  {
   "cell_type": "markdown",
   "metadata": {},
   "source": [
    "- Due to restriction of forcefield parameters availability, we will continue our example workflow with the compound selected from the drop down list."
   ]
  },
  {
   "cell_type": "markdown",
   "metadata": {},
   "source": [
    "## foyer\n",
    "\n"
   ]
  },
  {
   "cell_type": "code",
   "execution_count": null,
   "metadata": {},
   "outputs": [],
   "source": []
  }
 ],
 "metadata": {
  "kernelspec": {
   "display_name": "Python 3",
   "language": "python",
   "name": "python3"
  },
  "language_info": {
   "codemirror_mode": {
    "name": "ipython",
    "version": 3
   },
   "file_extension": ".py",
   "mimetype": "text/x-python",
   "name": "python",
   "nbconvert_exporter": "python",
   "pygments_lexer": "ipython3",
   "version": "3.7.6"
  }
 },
 "nbformat": 4,
 "nbformat_minor": 4
}
