{
 "cells": [
  {
   "cell_type": "markdown",
   "metadata": {},
   "source": [
    "<img src='./images/Rectangle.svg'/>\n",
    "\n",
    "\n",
    "- **<u>Mo</u>**lecular **<u>S</u>**imulation **<u>De</u>**sign **<u>F</u>**ramework, or MoSDeF, is a robust Python-based, open-source software framework designed to faciliate the initialization, atom-typing, and screening of soft matter system using molecular dynamics simulation. The project was developed initially at Vanderbilt University, in collaboration with software engineer from the Institute for Software Integrated System (ISIS). The project later expanded into a multi-university collaboration with Vanderbilt University being the lead institute. \n",
    "\n",
    "- The MoSDeF software suite comprises three main libraries, namely `mBuild`, `Foyer`, and `GMSO`, each targets a different component of system initialization. Specifically, `mBuild` library can be used to systematically construct any molecular systems, either atomistic or coarse-grained, while `Foyer` can be used to atom-type (assign type and parameters) to all particles, bonds, angles, and dihedrals in the created system. The `GMSO` library, which is still under development, will be the main data structure that can be used to store all the information of the system, including the details of the system (particles and their positions) along with types and parameters of that system. \n",
    "\n",
    "- By creating tools that allow user to put together complicated system in a scriptable manner and automating \"trivial\" but rather tedius steps (such as writing out to simulation engine specific molecular files), MoSDeF allows user to focus on system design, be able to build more (quantity-wise) and complicated systems. This does not increase the capability of molecular research, especially screening studies, involing the systematic iteration over a large variable space, but also improve the overall reprodicibility by minimizing human errors in most error proning steps."
   ]
  },
  {
   "cell_type": "markdown",
   "metadata": {},
   "source": [
    "## This Notebook\n",
    "\n",
    "- In this notebook, we will try to demonstrate how MoSDeF can be used in a molecular simulation workflow. Along the way we will highlight important features of each package. In context of a short demonstration, we will only do a rather simple simulation (equilibrium simulation of a box of small molecules). We will include examples of more complicated example/tutorials, which were created based on published work but has been simplified for pegodagy/demonstration purpose."
   ]
  },
  {
   "cell_type": "markdown",
   "metadata": {},
   "source": [
    "### mBuild - https://github.com/mosdef-hub/mbuild  \n",
    "\n",
    "- `mBuild` is MoSDeF's molecular building library within MoSDeF. In simple term, this library included features that allow user to create complex molecular systems starting from the particle level. The core data structure `mBuild` is the `Compound` class, which can be used to represent from a single particle to a complete system with ten of thoudsands of particles.  \n",
    "<img src='images/pmpc.png'/>\n",
    "- With the hierarchial (nestable), component based structure design, user can switched out components to create new systems. The code to create these systems can also be put into script (recipe) that can be shared with other `mBuild` users, and refered to in science report. "
   ]
  },
  {
   "cell_type": "markdown",
   "metadata": {},
   "source": [
    "- Beside building a system from the conventional way, `mBuild` also support loading `Compound` from various file format, and 2D representation of molecular structure such as SMILES (Simplified Molecular Input Line Entry System) string."
   ]
  },
  {
   "cell_type": "code",
   "execution_count": null,
   "metadata": {},
   "outputs": [],
   "source": [
    "import mbuild as mb\n",
    "# Loading a compound from a SMILES string\n",
    "compound = mb.load('C1CCCCC1', smiles=True)\n",
    "compound.visualize()"
   ]
  },
  {
   "cell_type": "markdown",
   "metadata": {},
   "source": [
    "- Create a molecule from a SMILES string is very handy tool to quickly create most small molecules, since they can be found in public database, such as https://pubchem.ncbi.nlm.nih.gov/ \n",
    "- In a small demonstration below, you can try enter a SMILES string, and the `mbuild` library will read it in, turn it into a `mbuild.Compound` and visualize it with `py3dmol`! \n",
    "- If you don't have one in mind, try:\n",
    "    - Caffeine: `CN1C=NC2=C1C(=O)N(C(=O)N2C)C`\n",
    "    - Nicotine: `CN1CCCC1C2=CN=CC=C2`\n",
    "    - Cannabidiol: `CCCCCC1=CC(=C(C(=C1)O)C2C=C(CCC2C(=C)C)C)O`"
   ]
  },
  {
   "cell_type": "code",
   "execution_count": null,
   "metadata": {},
   "outputs": [],
   "source": [
    "import src.widget_events as widgets\n",
    "import ipywidgets as iwidgets\n",
    "\n",
    "display(widgets.smiles_box)\n",
    "display(widgets.out_smiles)"
   ]
  },
  {
   "cell_type": "markdown",
   "metadata": {},
   "source": [
    "- `mbuild.load()` can readily load in a wide range of common file format, such as `pdb`, `mol2`, `xyz`, etc.\n",
    "- In this example workflow, particularly, we will demonstrate a simple process of loading a small molecules from `mol2` files locating in this repo, and used that to build a box of molecules, where user can specify the size of the box and the number of particles in the box. "
   ]
  },
  {
   "cell_type": "code",
   "execution_count": null,
   "metadata": {},
   "outputs": [],
   "source": [
    "display(widgets.compound_dropdown)\n",
    "display(widgets.out_mol)"
   ]
  },
  {
   "cell_type": "code",
   "execution_count": null,
   "metadata": {
    "scrolled": false
   },
   "outputs": [],
   "source": [
    "display(iwidgets.VBox([widgets.box_slider, widgets.n_slider]))\n",
    "display(widgets.out_box)"
   ]
  },
  {
   "cell_type": "markdown",
   "metadata": {},
   "source": [
    "- A detailed series of tutorials showcasing feature and use-cases of `mBuild` can be found at https://github.com/mosdef-hub/mosdef_tutorials)\n",
    "- Due to restriction of forcefield parameters availability, the example workflow will continue with the box of compound selected from the drop down list."
   ]
  },
  {
   "cell_type": "markdown",
   "metadata": {},
   "source": [
    "### Foyer - https://github.com/mosdef-hub/foyer/\n",
    "\n",
    "- `Foyer` is the atom-typing and parameterization package within the MoSDeF suite of tools. In molecular simulation, the bonded and non-bonded parameters that define the interactions between particles is called a Force Field.  These interaction parameters are derived by fitting to a specific physical property, such as density.\n",
    "\n",
    "- In `Foyer`, force field information is contained within an XML file, that can be loaded in as a `Forcefield` object.  By calling `Forcefield.apply()` on an `mbuild.Compound`, the force field parameters are automatically applied to the compound, returning a fully parametrized system.\n",
    "\n",
    "- Below we will demonstrate the process of initializing a `Forcefield` object with foyer, and applying the force field parameters to the `mBuild.Compound` initialized above.  We will use the General Amber Force Field (GAFF) using the `GAFF-foyer` plugin, and we will assign partial charges to each atom by using the `antefoyer` plugin."
   ]
  },
  {
   "cell_type": "code",
   "execution_count": null,
   "metadata": {},
   "outputs": [],
   "source": [
    "import foyer\n",
    "import antefoyer\n",
    "\n",
    "gaff_ff = foyer.forcefields.load_GAFF()\n",
    "\n",
    "if widgets.BOX_OF_COMPOUNDS:\n",
    "    typed_compound = gaff_ff.apply(widgets.BOX_OF_COMPOUNDS,\n",
    "                              assert_dihedral_params=False)\n",
    "else:\n",
    "    print('Please pick a molecule from the dropdown above.')"
   ]
  },
  {
   "cell_type": "markdown",
   "metadata": {},
   "source": [
    "- We have written a small function to help apply the partial charges with `antefoyer` and `antechamber`.  The charge assignment method we are using is `AM1BCC`, and we are setting the net charge to `0.0`."
   ]
  },
  {
   "cell_type": "code",
   "execution_count": null,
   "metadata": {},
   "outputs": [],
   "source": [
    "def apply_charges(box_structure, single_compound, n_atoms, ff):\n",
    "    single_mol_struct_charge = antefoyer.ante_charges(\n",
    "            single_compound, 'bcc', net_charge=0.00, multiplicity=1)\n",
    "    \n",
    "    for index, atom in enumerate(box_structure.atoms):\n",
    "        atom.charge = single_mol_struct_charge.atoms[index%n_atoms].charge\n",
    "    return box_structure"
   ]
  },
  {
   "cell_type": "code",
   "execution_count": null,
   "metadata": {},
   "outputs": [],
   "source": [
    "charge_structure = apply_charges(box_structure=typed_compound,\n",
    "                                 single_compound=widgets.COMPOUND,\n",
    "                                 n_atoms=widgets.COMPOUND.n_particles,\n",
    "                                 ff=gaff_ff)"
   ]
  },
  {
   "cell_type": "markdown",
   "metadata": {},
   "source": [
    "### GMSO (under development) - https://github.com/mosdef-hub/gmso\n",
    "\n",
    "- `GMSO` is designed to be a general and flexible representation of chemical topologies for molecular system. The package is currently underdevelopment, but it is set to become the backend data structure for `foyer` to store all the information of a typed molecular system.\n",
    "- The main attribute that set `GMSO` apart from other available similar library is its generality and explicity. By assuming at little as possible about the chemical system, model, or engine, `GMSO` can support a variety of systems with different type of force field. "
   ]
  },
  {
   "cell_type": "code",
   "execution_count": null,
   "metadata": {
    "scrolled": false
   },
   "outputs": [],
   "source": [
    "import gmso\n",
    "import gmso.external\n",
    "import gmso.formats\n",
    "import warnings\n",
    "warnings.filterwarnings(\"ignore\")\n",
    "\n",
    "topology = gmso.external.from_parmed(charge_structure)\n",
    "topology.name = widgets.COMPOUND.name"
   ]
  },
  {
   "cell_type": "markdown",
   "metadata": {},
   "source": [
    "- `GMSO` emphasizes on the explicity of forcefield parameters. Hence, the library utilizes `sympy.expression` to store the expression for all the Type (AtomType, BondType, etc.), and `unyt` to keep track of all corresponding parameters' unit. An example of an AtomType's expression and parameters is shown below."
   ]
  },
  {
   "cell_type": "code",
   "execution_count": null,
   "metadata": {},
   "outputs": [],
   "source": [
    "display(topology.sites[0].atom_type.expression)\n",
    "display(topology.sites[0].atom_type.parameters)"
   ]
  },
  {
   "cell_type": "markdown",
   "metadata": {},
   "source": [
    "- Last but not least, the most important task of `GMSO`, or any chemical topolgy backend, is to save out accurate molecular topology file that can be read and execute by simulation engine. Since generality is one of the main focus of `GMSO`, we plan to support writing out to as many types of molecular file as possible. Currently, we already have writers for a few popular simulation code such as LAMMPS and GROMACS. "
   ]
  },
  {
   "cell_type": "code",
   "execution_count": null,
   "metadata": {},
   "outputs": [],
   "source": [
    "gmso.formats.write_top(topology, \"simulation/topol.top\", \n",
    "                       top_vars={\"fudgeLJ\": 0.5, \"fudgeQQ\": 0.8, \"comb-rule\": \"geometric\"})\n",
    "gmso.formats.write_gro(topology, \"simulation/conf.gro\")"
   ]
  },
  {
   "cell_type": "markdown",
   "metadata": {},
   "source": [
    "- Time to run the simulation! We are using GROMACS to simulate a short equilibrium simulation of small molecules in a box."
   ]
  },
  {
   "cell_type": "code",
   "execution_count": null,
   "metadata": {},
   "outputs": [],
   "source": [
    "from run_simulation import run_energy_minimization, run_nvt\n",
    "run_energy_minimization()\n",
    "run_nvt()"
   ]
  },
  {
   "cell_type": "markdown",
   "metadata": {},
   "source": [
    "- The result can be analyzed by other available analysis library such as `panedr`."
   ]
  },
  {
   "cell_type": "code",
   "execution_count": null,
   "metadata": {},
   "outputs": [],
   "source": [
    "import panedr\n",
    "import matplotlib.pyplot as plt\n",
    "sim_data = panedr.edr_to_df(\"simulation/ener.edr\")\n",
    "\n",
    "plt.figure(dpi=350, figsize=(5, 5))\n",
    "plt.plot(sim_data[\"Time\"], sim_data[\"Temperature\"])"
   ]
  },
  {
   "cell_type": "markdown",
   "metadata": {},
   "source": [
    "- We can visualize the what happened in in the simulation using `nglview`."
   ]
  },
  {
   "cell_type": "code",
   "execution_count": null,
   "metadata": {
    "scrolled": true
   },
   "outputs": [],
   "source": [
    "from run_simulation import visualize_trajectory\n",
    "\n",
    "visualize_trajectory()"
   ]
  },
  {
   "cell_type": "markdown",
   "metadata": {},
   "source": [
    "### More links\n",
    "\n",
    "- The above example only present a fraction of MoSDeF's capabilities. More information of about this software suite can be found at:\n",
    "    - https://mosdef.org\n",
    "    - https://github.com/mosdef-hub\n",
    "- More example of MoSDeF workflow with more interesting system can be found at:\n",
    "    - https://github.com/mosdef-hub/mosdef-workflows\n",
    "    - https://github.com/daico007/TRUE-nanotribology\n",
    "    - https://github.com/uppittu11/true_lipids\n",
    "    - https://github.com/rmatsum836/true_graphene"
   ]
  },
  {
   "cell_type": "code",
   "execution_count": null,
   "metadata": {},
   "outputs": [],
   "source": []
  }
 ],
 "metadata": {
  "kernelspec": {
   "display_name": "Python 3",
   "language": "python",
   "name": "python3"
  },
  "language_info": {
   "codemirror_mode": {
    "name": "ipython",
    "version": 3
   },
   "file_extension": ".py",
   "mimetype": "text/x-python",
   "name": "python",
   "nbconvert_exporter": "python",
   "pygments_lexer": "ipython3",
   "version": "3.7.6"
  }
 },
 "nbformat": 4,
 "nbformat_minor": 4
}
