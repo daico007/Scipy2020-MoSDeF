{
 "cells": [
  {
   "cell_type": "markdown",
   "metadata": {},
   "source": [
    "<img src='./images/Rectangle.svg'/>\n",
    "\n",
    "\n",
    "**<u>Mo</u>**lecular **<u>S</u>**imulation **<u>De</u>**sign **<u>F</u>**ramework, or MoSDeF, is a robust Python-based, open-source software framework designed to faciliate the initialization, atom-typing, and screeening of soft matter system using molecular dynamics simulation. The project was developed initially at Vanderbilt University, in collaboration with software engineer from the Institute for Software Integrated System (ISIS). The project later expanded into a multi-university collaboration with Vanderbilt University being the lead institute. \n",
    "\n",
    "The MoSDeF software suite comprises several libraries, namely `mbuild`, `foyer`, and `gmso`, each targets a different component of system initialization. Specifically, `mbuild` library can be used to systematically construct any molecular systems, either atomistic or coarse-grained, while `foyer` can be used to atom-type (assign type and parameters) to all particles, bonds, angles, and dihedrals in the created system. The `gmso` library, which is still under development, will be the main data structure that can be used to store all the information of the system, including the details of the system (particles and their positions) and parameters of all the atom types, bond types, angle types, and dihedral types. \n",
    "\n",
    "By creating tools that allow user to easily put together complicated system and automating \"trivial\" but rather tedius steps (such as writing out to simulation engine specific molecular files), MoSDeF allows user to focus on system design, be able to build more (quantity-wise) and complicated systems. This does not increase the capability of molecular research, especially screening studies, where research iterate over a wide variable space (so many of unqiue systems)."
   ]
  },
  {
   "cell_type": "markdown",
   "metadata": {},
   "source": [
    "## mBuild\n",
    "\n",
    "`mBuild`, a Python library within the MoSDeF software suite, is a general purpose tool for constructing molecular system in a scriptable manner. Unlike other existing tools in the community, which only focus on specific type of molecular system (bilayer, monlayer), and employ GUIs, which may hamper reproducibility and could not be used for fully automated workflows, `mbuild` allows user to hiearachically construct complex system from smaller, interchangable pieces that can be connected through the use of generative, or procedural, modeling. \n",
    "\n",
    "\n",
    "### Data Structure\n",
    "\n",
    "#### Compound \n",
    "\n",
    "#### Port\n",
    "\n",
    "#### Important feature\n",
    "- Recipe\n",
    "- Load in with various file types (including SMILES string)\n",
    "- Visualization\n",
    "\n",
    "#### Example"
   ]
  },
  {
   "cell_type": "code",
   "execution_count": 1,
   "metadata": {},
   "outputs": [],
   "source": [
    "# mbuild example"
   ]
  },
  {
   "cell_type": "code",
   "execution_count": 2,
   "metadata": {},
   "outputs": [],
   "source": [
    "# mbuild recipe demonstration \n",
    "# only need to conda clone, pip install, and then the recipe \n",
    "# will be avaible/detected by mbuild"
   ]
  },
  {
   "cell_type": "markdown",
   "metadata": {},
   "source": [
    "## Foyer \n",
    "\n",
    "### Intro and Relevance\n",
    "\n",
    "### SMARTS string (and parsing logic)\n",
    "\n",
    "### XML file\n",
    "\n",
    "### Forcefield plugins"
   ]
  },
  {
   "cell_type": "code",
   "execution_count": 3,
   "metadata": {},
   "outputs": [],
   "source": [
    "# Parametrization of small molecule "
   ]
  },
  {
   "cell_type": "markdown",
   "metadata": {},
   "source": [
    "## General Molecular Simulation Object (Under development)\n",
    "\n",
    "### Intro and Relevance\n",
    "\n",
    "### Main Data Structures\n",
    "\n",
    "### XML\n",
    "\n",
    "- What are the new stuff and why are they important\n",
    "\n",
    "### Road map"
   ]
  },
  {
   "cell_type": "code",
   "execution_count": 4,
   "metadata": {},
   "outputs": [],
   "source": [
    "# Some working example"
   ]
  },
  {
   "cell_type": "markdown",
   "metadata": {},
   "source": [
    "## Example Workflow"
   ]
  },
  {
   "cell_type": "code",
   "execution_count": null,
   "metadata": {},
   "outputs": [],
   "source": []
  }
 ],
 "metadata": {
  "kernelspec": {
   "display_name": "Python 3",
   "language": "python",
   "name": "python3"
  },
  "language_info": {
   "codemirror_mode": {
    "name": "ipython",
    "version": 3
   },
   "file_extension": ".py",
   "mimetype": "text/x-python",
   "name": "python",
   "nbconvert_exporter": "python",
   "pygments_lexer": "ipython3",
   "version": "3.7.6"
  }
 },
 "nbformat": 4,
 "nbformat_minor": 4
}
