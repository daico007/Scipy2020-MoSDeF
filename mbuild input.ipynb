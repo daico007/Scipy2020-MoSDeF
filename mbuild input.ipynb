{
 "cells": [
  {
   "cell_type": "code",
   "execution_count": 1,
   "metadata": {},
   "outputs": [
    {
     "data": {
      "application/vnd.jupyter.widget-view+json": {
       "model_id": "0f3a6eace46748c6a2c15b8a4771b67a",
       "version_major": 2,
       "version_minor": 0
      },
      "text/plain": []
     },
     "metadata": {},
     "output_type": "display_data"
    }
   ],
   "source": [
    "import os\n",
    "import glob\n",
    "import re\n",
    "import numpy as np\n",
    "import ipywidgets as widgets\n",
    "from ipywidgets import interact, interactive, fixed, interact_manual\n",
    "from IPython.display import clear_output\n",
    "\n",
    "import mbuild as mb\n",
    "\n",
    "import warnings\n",
    "warnings.filterwarnings('ignore')"
   ]
  },
  {
   "cell_type": "code",
   "execution_count": 45,
   "metadata": {},
   "outputs": [],
   "source": [
    "# Read in and create a dictionary of all the compounds\n",
    "files = glob.glob('./molecules-mol2/foyer_molecules/ante_types/*.mol2')\n",
    "compounds = {'Select your molecule': None}\n",
    "for file in files:\n",
    "    molname = re.sub('.mol2','',re.sub('^.*/','',file))\n",
    "    compounds[molname] = mb.load(file, use_parmed=True)"
   ]
  },
  {
   "cell_type": "code",
   "execution_count": 46,
   "metadata": {},
   "outputs": [],
   "source": [
    "# Define some globale variable\n",
    "# These variables will be update when the widget event handlers are called\n",
    "COMPOUND = None\n",
    "BOX_OF_COMPOUNDS = None\n",
    "\n",
    "\n",
    "\n",
    "def visualize(compound):\n",
    "    # A method to filter out numeric string in particle name\n",
    "    # before being visualize by py3dmol (so the color scheme\n",
    "    # could be consistent)\n",
    "    vis_compound = mb.clone(compound)\n",
    "    for particle in vis_compound.particles():\n",
    "        particle.name = ''.join(filter(str.isalpha, \n",
    "                                    particle.name))\n",
    "        \n",
    "    display(vis_compound.visualize())\n",
    "    \n",
    "def compound_handler(obj):\n",
    "    global COMPOUND \n",
    "    COMPOUND = compound_dropdown.value\n",
    "    with out1: \n",
    "        clear_output()\n",
    "        if compound_dropdown.value:\n",
    "            visualize(compound_dropdown.value)\n",
    "            \n",
    "\n",
    "\n",
    "def box_handler(obj):\n",
    "    box = [box_slider.value] * 3\n",
    "    n_compounds = n_slider.value\n",
    "    compound = compound_dropdown.value\n",
    "    \n",
    "    box_of_compound = mb.fill_box(compound=compound, \n",
    "                                  n_compounds=n_compounds,\n",
    "                                  box=box)\n",
    "    global BOX_OF_COMPOUNDS\n",
    "    BOX_OF_COMPOUNDS = box_of_compound\n",
    "    with out2:\n",
    "        clear_output()\n",
    "        visualize(box_of_compound)\n",
    "  "
   ]
  },
  {
   "cell_type": "code",
   "execution_count": 47,
   "metadata": {},
   "outputs": [
    {
     "data": {
      "application/vnd.jupyter.widget-view+json": {
       "model_id": "bfa6171d7716423dad37da5bef5e3e5d",
       "version_major": 2,
       "version_minor": 0
      },
      "text/plain": [
       "Dropdown(options={'Select your molecule': None, 'methyl-acetate': <Compound 11 particles, non-periodic, 10 bon…"
      ]
     },
     "metadata": {},
     "output_type": "display_data"
    },
    {
     "data": {
      "application/vnd.jupyter.widget-view+json": {
       "model_id": "f2fa23bcde764005b89b24831dd59f4b",
       "version_major": 2,
       "version_minor": 0
      },
      "text/plain": [
       "Output()"
      ]
     },
     "metadata": {},
     "output_type": "display_data"
    }
   ],
   "source": [
    "compound_dropdown = widgets.Dropdown(options=compounds)\n",
    "display(compound_dropdown)\n",
    "\n",
    "out1 = widgets.Output()\n",
    "display(out1)\n",
    "\n",
    "compound_dropdown.observe(compound_handler, names='value')\n",
    "compound_dropdown.observe(box_handler, names='value')\n"
   ]
  },
  {
   "cell_type": "code",
   "execution_count": 44,
   "metadata": {},
   "outputs": [
    {
     "data": {
      "application/vnd.jupyter.widget-view+json": {
       "model_id": "20e2052796f54a598e3ddb3ff8f00fad",
       "version_major": 2,
       "version_minor": 0
      },
      "text/plain": [
       "FloatSlider(value=5.0, description='Box size', max=10.0)"
      ]
     },
     "metadata": {},
     "output_type": "display_data"
    },
    {
     "data": {
      "application/vnd.jupyter.widget-view+json": {
       "model_id": "c74b680ffb1e41368dbd575b67a78ef8",
       "version_major": 2,
       "version_minor": 0
      },
      "text/plain": [
       "IntSlider(value=50, description='n molecules', min=1)"
      ]
     },
     "metadata": {},
     "output_type": "display_data"
    },
    {
     "data": {
      "application/vnd.jupyter.widget-view+json": {
       "model_id": "898933aa9f6c49cd884f3533b5706d1a",
       "version_major": 2,
       "version_minor": 0
      },
      "text/plain": [
       "Output()"
      ]
     },
     "metadata": {},
     "output_type": "display_data"
    }
   ],
   "source": [
    "# We will create some orthogonal box from the box handler\n",
    "box_slider = widgets.FloatSlider(min=0, max=10, description='Box size', value=5)\n",
    "n_slider = widgets.IntSlider(min=1, max=100, description='n molecules', value=50)\n",
    "\n",
    "display(box_slider)\n",
    "display(n_slider)\n",
    "\n",
    "out2 = widgets.Output()\n",
    "display(out2)\n",
    "\n",
    "box_slider.observe(box_handler, names='value')\n",
    "n_slider.observe(box_handler, names='value')"
   ]
  },
  {
   "cell_type": "code",
   "execution_count": 68,
   "metadata": {
    "scrolled": false
   },
   "outputs": [
    {
     "data": {
      "application/vnd.jupyter.widget-view+json": {
       "model_id": "5484e90abb204eeda166d9f5333110a4",
       "version_major": 2,
       "version_minor": 0
      },
      "text/plain": [
       "Text(value='', description='SMILES:', placeholder='Enter a SMILES string')"
      ]
     },
     "metadata": {},
     "output_type": "display_data"
    },
    {
     "data": {
      "application/vnd.jupyter.widget-view+json": {
       "model_id": "25528273f22a4f82af14bfbca68414ea",
       "version_major": 2,
       "version_minor": 0
      },
      "text/plain": [
       "Output()"
      ]
     },
     "metadata": {},
     "output_type": "display_data"
    }
   ],
   "source": [
    "# Experiment with SMILES string\n",
    "def smiles_handler(obj):\n",
    "    try:\n",
    "        compound = mb.load(smiles_box.value, smiles=True)\n",
    "    except:\n",
    "        compound = None\n",
    "    with out3:\n",
    "        clear_output()\n",
    "        if compound:\n",
    "            visualize(compound)\n",
    "        else:\n",
    "            print('Invalid SMILES string')\n",
    "        \n",
    "        \n",
    "smiles_box = widgets.Text(\n",
    "    placeholder='Enter a SMILES string',\n",
    "    description='SMILES:',\n",
    "    disabled=False\n",
    ")\n",
    "\n",
    "display(smiles_box)\n",
    "\n",
    "out3 = widgets.Output()\n",
    "display(out3)\n",
    "\n",
    "smiles_box.observe(smiles_handler, names='value')"
   ]
  },
  {
   "cell_type": "code",
   "execution_count": null,
   "metadata": {},
   "outputs": [],
   "source": []
  }
 ],
 "metadata": {
  "kernelspec": {
   "display_name": "Python 3",
   "language": "python",
   "name": "python3"
  },
  "language_info": {
   "codemirror_mode": {
    "name": "ipython",
    "version": 3
   },
   "file_extension": ".py",
   "mimetype": "text/x-python",
   "name": "python",
   "nbconvert_exporter": "python",
   "pygments_lexer": "ipython3",
   "version": "3.7.6"
  }
 },
 "nbformat": 4,
 "nbformat_minor": 4
}
